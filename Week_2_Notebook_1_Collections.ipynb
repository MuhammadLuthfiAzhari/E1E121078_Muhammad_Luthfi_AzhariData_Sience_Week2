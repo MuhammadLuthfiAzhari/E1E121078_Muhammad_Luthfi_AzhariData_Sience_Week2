{
  "cells": [
    {
      "cell_type": "markdown",
      "metadata": {
        "id": "JOeJ48wQh3O4"
      },
      "source": [
        "# Week 2 Notebook 1 Overview\n",
        "\n",
        "## Collections\n",
        "\n",
        "This week we will start by exploring three types of collection structures in Python:\n",
        "1. Lists\n",
        "2. Tuples\n",
        "3. Sets\n"
      ]
    },
    {
      "cell_type": "markdown",
      "metadata": {
        "id": "sxni8Fvkh3O7"
      },
      "source": [
        "## Lists"
      ]
    },
    {
      "cell_type": "markdown",
      "metadata": {
        "id": "LUsF24m-h3O8"
      },
      "source": [
        "We have been creating variables to store one value at a time. However, we usually have collections of data to manipulate and explore. One of the data types that we can use to store a collection is a list.\n",
        "\n",
        "We can create lists to store data of the same type, or of different types.\n",
        "Here are three examples.\n"
      ]
    },
    {
      "cell_type": "code",
      "execution_count": 44,
      "metadata": {
        "id": "DD2Omw3uh3O9"
      },
      "outputs": [],
      "source": [
        "# A list of names\n",
        "names = [\"Mary\", \"Ali\", \"Ying\"]\n",
        "\n",
        "# A list of numbers\n",
        "numbers = [100, 101, 102, 103, 104, 105, 106, 107, 108, 109, 110]\n",
        "\n",
        "# A list with mixed types\n",
        "mixed_list = ['one', 2, 3, 5, True]\n"
      ]
    },
    {
      "cell_type": "markdown",
      "metadata": {
        "id": "mpGkRW9Nh3O-"
      },
      "source": [
        "Let's check the type of each of `names`"
      ]
    },
    {
      "cell_type": "code",
      "execution_count": null,
      "metadata": {
        "colab": {
          "base_uri": "https://localhost:8080/"
        },
        "id": "7D-Ahje7h3O_",
        "outputId": "4b0d88d4-410e-4d47-a769-dda9e25124b9"
      },
      "outputs": [
        {
          "data": {
            "text/plain": [
              "list"
            ]
          },
          "execution_count": 16,
          "metadata": {},
          "output_type": "execute_result"
        }
      ],
      "source": [
        "type(names)"
      ]
    },
    {
      "cell_type": "markdown",
      "metadata": {
        "id": "0XC9ygvRh3O_"
      },
      "source": [
        "To view the contents of the list, you can just type the name of the variable, or use the `print()` function:"
      ]
    },
    {
      "cell_type": "code",
      "execution_count": null,
      "metadata": {
        "colab": {
          "base_uri": "https://localhost:8080/"
        },
        "id": "J5FRMTr3h3O_",
        "outputId": "e5686a38-1272-4bdc-9398-48143dc8f1dc"
      },
      "outputs": [
        {
          "data": {
            "text/plain": [
              "['Mary', 'Ali', 'Ying']"
            ]
          },
          "execution_count": 17,
          "metadata": {},
          "output_type": "execute_result"
        }
      ],
      "source": [
        "names"
      ]
    },
    {
      "cell_type": "code",
      "execution_count": null,
      "metadata": {
        "colab": {
          "base_uri": "https://localhost:8080/"
        },
        "id": "1d58l32Ch3PA",
        "outputId": "9dab196f-6d2e-458f-a47c-b38ac62741b2"
      },
      "outputs": [
        {
          "name": "stdout",
          "output_type": "stream",
          "text": [
            "[100, 101, 102, 103, 104, 105, 106, 107, 108, 109, 110]\n"
          ]
        }
      ],
      "source": [
        "print(numbers)"
      ]
    },
    {
      "cell_type": "markdown",
      "metadata": {
        "id": "6EdTZ-kVh3PA"
      },
      "source": [
        "You can also access each element of the list, using its index, which are numbered starting from 0."
      ]
    },
    {
      "cell_type": "code",
      "execution_count": null,
      "metadata": {
        "colab": {
          "base_uri": "https://localhost:8080/"
        },
        "id": "rIV-Orl4h3PA",
        "outputId": "fe7e87fa-7a0f-4071-b0eb-16064225d20c"
      },
      "outputs": [
        {
          "name": "stdout",
          "output_type": "stream",
          "text": [
            "The name that appears first is Mary\n"
          ]
        }
      ],
      "source": [
        "print('The name that appears first is ' + names[0])"
      ]
    },
    {
      "cell_type": "markdown",
      "metadata": {
        "id": "5n45ca26h3PB"
      },
      "source": [
        "As you can see, the first element is at index 0.\n",
        "\n",
        "This means for the list called `names`, the indices are from 0 up to 2. What happens if you enter a number that is more than 2?\n"
      ]
    },
    {
      "cell_type": "code",
      "execution_count": null,
      "metadata": {
        "colab": {
          "base_uri": "https://localhost:8080/",
          "height": 227
        },
        "id": "w6IeHln6h3PB",
        "outputId": "7dd085e7-2c88-488e-bb36-18e5c1f8166d"
      },
      "outputs": [
        {
          "name": "stdout",
          "output_type": "stream",
          "text": [
            "Ali\n"
          ]
        },
        {
          "ename": "IndexError",
          "evalue": "ignored",
          "output_type": "error",
          "traceback": [
            "\u001b[0;31m---------------------------------------------------------------------------\u001b[0m",
            "\u001b[0;31mIndexError\u001b[0m                                Traceback (most recent call last)",
            "\u001b[0;32m<ipython-input-20-c8c20b3d65e0>\u001b[0m in \u001b[0;36m<cell line: 3>\u001b[0;34m()\u001b[0m\n\u001b[1;32m      1\u001b[0m \u001b[0;31m# Try entering a different value for the index\u001b[0m\u001b[0;34m\u001b[0m\u001b[0;34m\u001b[0m\u001b[0m\n\u001b[1;32m      2\u001b[0m \u001b[0mprint\u001b[0m\u001b[0;34m(\u001b[0m\u001b[0mnames\u001b[0m\u001b[0;34m[\u001b[0m\u001b[0;36m1\u001b[0m\u001b[0;34m]\u001b[0m\u001b[0;34m)\u001b[0m\u001b[0;34m\u001b[0m\u001b[0;34m\u001b[0m\u001b[0m\n\u001b[0;32m----> 3\u001b[0;31m \u001b[0mprint\u001b[0m\u001b[0;34m(\u001b[0m\u001b[0mnames\u001b[0m\u001b[0;34m[\u001b[0m\u001b[0;36m3\u001b[0m\u001b[0;34m]\u001b[0m\u001b[0;34m)\u001b[0m\u001b[0;34m\u001b[0m\u001b[0;34m\u001b[0m\u001b[0m\n\u001b[0m",
            "\u001b[0;31mIndexError\u001b[0m: list index out of range"
          ]
        }
      ],
      "source": [
        "# Try entering a different value for the index\n",
        "print(names[1])\n",
        "print(names[3])\n"
      ]
    },
    {
      "cell_type": "markdown",
      "metadata": {
        "id": "h2nWpmImh3PB"
      },
      "source": [
        "As you can see, you will get an out of range error if you try to use a number for the index that exceeds the length of the list.\n",
        "\n",
        "To check the length of a list, you can use the `len()` function\n",
        "\n",
        "The index will be a value between 0 and (length - 1)"
      ]
    },
    {
      "cell_type": "code",
      "execution_count": null,
      "metadata": {
        "colab": {
          "base_uri": "https://localhost:8080/"
        },
        "id": "UIMBEOoRh3PC",
        "outputId": "c212f8b5-ff76-4bcd-8b2c-0e3c9e910600"
      },
      "outputs": [
        {
          "data": {
            "text/plain": [
              "3"
            ]
          },
          "execution_count": 21,
          "metadata": {},
          "output_type": "execute_result"
        }
      ],
      "source": [
        "len(names)"
      ]
    },
    {
      "cell_type": "markdown",
      "metadata": {
        "id": "_ojWLbw0h3PC"
      },
      "source": [
        "An easy way to get the last element of the list though is to use -1 as the index:"
      ]
    },
    {
      "cell_type": "code",
      "execution_count": null,
      "metadata": {
        "colab": {
          "base_uri": "https://localhost:8080/"
        },
        "id": "TzAZIgLjh3PD",
        "outputId": "eddfd5f3-11e1-403e-f918-9356e455e644"
      },
      "outputs": [
        {
          "name": "stdout",
          "output_type": "stream",
          "text": [
            "Ying\n",
            "109\n"
          ]
        }
      ],
      "source": [
        "# get the last element of the names list\n",
        "print(names[-1])\n",
        "\n",
        "# get the second last element of the numbers list\n",
        "print(numbers[-2])"
      ]
    },
    {
      "cell_type": "markdown",
      "metadata": {
        "id": "GEeh59jqh3PD"
      },
      "source": [
        "To get a *slice*, or part, of a list, you can use slice operator, `[:]`\n",
        "\n",
        "The syntax for a slice is \\[ *start* : *stop* : *step* \\], where *start* means the index that you want to start at, *stop* is the index to slice up to, and *step* indicates the steps to increment by.\n",
        "\n",
        "For example, remember that the list of numbers consisted of the numbers 1 to 10."
      ]
    },
    {
      "cell_type": "code",
      "execution_count": null,
      "metadata": {
        "colab": {
          "base_uri": "https://localhost:8080/"
        },
        "id": "mJABEIl7h3PD",
        "outputId": "4333b559-a06a-4e75-b830-ef477554218d"
      },
      "outputs": [
        {
          "name": "stdout",
          "output_type": "stream",
          "text": [
            "[100, 101, 102, 103, 104, 105, 106, 107, 108, 109, 110]\n",
            "The indices are from 0 up to 10\n",
            "[101, 102, 103, 104, 105, 106]\n",
            "[101, 103, 105]\n"
          ]
        }
      ],
      "source": [
        "# print the list\n",
        "print(numbers)\n",
        "print(\"The indices are from 0 up to \" + str(len(numbers)-1))\n",
        "\n",
        "# print the slice from index 1 up to (but not including 7), step by 1\n",
        "print(numbers[1:7:1])\n",
        "\n",
        "# print the slice from index 1 up to (but not including 7), step by 2\n",
        "print(numbers[1:7:2])\n"
      ]
    },
    {
      "cell_type": "markdown",
      "metadata": {
        "id": "QkJNjmZXh3PE"
      },
      "source": [
        "You can use default values for *start*, *stop* and *end* by not specifying them:"
      ]
    },
    {
      "cell_type": "code",
      "execution_count": null,
      "metadata": {
        "colab": {
          "base_uri": "https://localhost:8080/"
        },
        "id": "Ylnr6Ar1h3PE",
        "outputId": "123fbe81-f5d0-428d-f1ee-97eb1bce2a35"
      },
      "outputs": [
        {
          "name": "stdout",
          "output_type": "stream",
          "text": [
            "[102, 103, 104]\n",
            "[100, 102, 104]\n",
            "[101, 104, 107, 110]\n",
            "[100, 103, 106, 109]\n"
          ]
        }
      ],
      "source": [
        "# print the numbers from 2 to 5, default step by 1\n",
        "print(numbers[2:5])\n",
        "\n",
        "# start from default of 0, stop at 5 and step by 2\n",
        "print(numbers[:5:2])\n",
        "\n",
        "# start from 1, stop at the end, step by 3\n",
        "print(numbers[1::3])\n",
        "\n",
        "# start from 0, stop at the end, step by 3\n",
        "print(numbers[::3])"
      ]
    },
    {
      "cell_type": "markdown",
      "metadata": {
        "id": "B-UC79P7h3PF"
      },
      "source": [
        "You can also *iterate* through the list, which means to access the element one at a time, using a for loop.\n",
        "\n",
        "For example, we want to go through the elements in the `numbers` list and multiply each element by 2.\n"
      ]
    },
    {
      "cell_type": "code",
      "execution_count": null,
      "metadata": {
        "id": "UdklUfvXh3PF"
      },
      "outputs": [],
      "source": [
        "# using a for loop to iterate through the list called 'numbers'\n",
        "for num in numbers:\n",
        "    print(num * 2)\n"
      ]
    },
    {
      "cell_type": "markdown",
      "metadata": {
        "id": "4oc2emhTh3PF"
      },
      "source": [
        "### Properties of Lists\n",
        "\n",
        "Lists in Python have the following properties\n",
        "- The order of elements is important\n",
        "- There can be duplicate elements\n",
        "- The elements in a list can be changed\n",
        "- The list can be resized, that means it can grow or shrink as elements are added or removed.\n",
        "\n",
        "We have seen that the position of the elements allows us to access each element using an index.\n",
        "\n",
        "Let's see how we can add or remove elements.\n"
      ]
    },
    {
      "cell_type": "markdown",
      "metadata": {
        "id": "fYX0fu0oh3PF"
      },
      "source": [
        "### Adding elements\n",
        "\n",
        "We can add elements to a list:\n",
        "- by appending the element to the end of the list\n",
        "- or inserting an element before an existing element\n",
        "\n",
        "Run the following examples:"
      ]
    },
    {
      "cell_type": "code",
      "execution_count": null,
      "metadata": {
        "colab": {
          "base_uri": "https://localhost:8080/"
        },
        "id": "ZtyD-QSJh3PG",
        "outputId": "1a3c94c8-3760-4f22-b0e9-7bf508d5867e"
      },
      "outputs": [
        {
          "name": "stdout",
          "output_type": "stream",
          "text": [
            "append means to add to the end of the list\n",
            "['Mary', 'Ali', 'Ying', 'Raj']\n",
            "\n",
            "or you can insert, for example at index 1\n",
            "['Mary', 'Joe', 'Ali', 'Ying', 'Raj']\n"
          ]
        }
      ],
      "source": [
        "# adding a name to the end of the list\n",
        "names.append(\"Raj\")\n",
        "print(\"append means to add to the end of the list\")\n",
        "print(names)\n",
        "\n",
        "# inserting at index 1\n",
        "names.insert(1, \"Joe\")\n",
        "print(\"\\nor you can insert, for example at index 1\")\n",
        "print(names)"
      ]
    },
    {
      "cell_type": "markdown",
      "metadata": {
        "id": "kaqh1bxBh3PG"
      },
      "source": [
        "You can also replace elements the list by specifying the index at which you want to change to a new element.\n",
        "\n",
        "\n"
      ]
    },
    {
      "cell_type": "code",
      "execution_count": null,
      "metadata": {
        "colab": {
          "base_uri": "https://localhost:8080/"
        },
        "id": "DL7gKN5Fh3PG",
        "outputId": "7c96a247-5928-40c2-c83f-4217e3a5e212"
      },
      "outputs": [
        {
          "name": "stdout",
          "output_type": "stream",
          "text": [
            "original list\n",
            "['Mary', 'Joe', 'Ali', 'Ying', 'Raj']\n",
            "\n",
            " replaced list\n",
            "['Mary', 'Hari', 'Ali', 'Ying', 'Raj']\n"
          ]
        }
      ],
      "source": [
        "print(\"original list\")\n",
        "print(names)\n",
        "\n",
        "# swap the element at index 1\n",
        "names[1] = \"Hari\"\n",
        "print('\\n replaced list')\n",
        "print(names)\n"
      ]
    },
    {
      "cell_type": "markdown",
      "metadata": {
        "id": "UbyYV2zuh3PG"
      },
      "source": [
        "We can also remove elements from the list, using the `remove()` or `pop()` functions:\n",
        "\n"
      ]
    },
    {
      "cell_type": "code",
      "execution_count": 45,
      "metadata": {
        "colab": {
          "base_uri": "https://localhost:8080/"
        },
        "id": "l2SbPoNlh3PH",
        "outputId": "0263a955-d429-4ead-ed5a-c00706f21963"
      },
      "outputs": [
        {
          "output_type": "stream",
          "name": "stdout",
          "text": [
            "After removing Ali\n",
            "['Mary', 'Ying']\n",
            "\n",
            "After using pop()\n",
            "['Mary']\n",
            "\n",
            "After using clear()\n",
            "[]\n"
          ]
        }
      ],
      "source": [
        "# remove() function removes the element specified, if it is in the list\n",
        "names.remove(\"Ali\")\n",
        "\n",
        "print(\"After removing Ali\")\n",
        "print(names)\n",
        "\n",
        "# pop() function removes the last element from the list.\n",
        "names.pop()\n",
        "print(\"\\nAfter using pop()\")\n",
        "print(names)\n",
        "\n",
        "# clear() function removes all elements\n",
        "names.clear()\n",
        "print(\"\\nAfter using clear()\")\n",
        "print(names)"
      ]
    },
    {
      "cell_type": "markdown",
      "metadata": {
        "id": "Uxireek3h3PH"
      },
      "source": [
        "## Tuples\n",
        "\n",
        "Another type of collection object is a tuple. A tuple is similar to list, except it cannot be changed, so we would say\n",
        "- a list is a collection of ordered elements that is **mutable**\n",
        "- a tuple is a collection of ordered element that is **immutable**\n",
        "\n",
        "Let's see what it means to be immutable.\n",
        "\n",
        "A tuple is created using parentheses.\n"
      ]
    },
    {
      "cell_type": "code",
      "execution_count": 52,
      "metadata": {
        "id": "UV3Bto33h3PI",
        "colab": {
          "base_uri": "https://localhost:8080/"
        },
        "outputId": "9b2f9c41-da2f-464c-9fe5-29322b11211d"
      },
      "outputs": [
        {
          "output_type": "execute_result",
          "data": {
            "text/plain": [
              "tuple"
            ]
          },
          "metadata": {},
          "execution_count": 52
        }
      ],
      "source": [
        "# creating a tuple of names, using parentheses\n",
        "names_tuple = (\"Mary\", \"Ali\", \"Ying\")\n",
        "\n",
        "# check the type of names\n",
        "type(names_tuple)"
      ]
    },
    {
      "cell_type": "markdown",
      "metadata": {
        "id": "NTFAkcEGh3PI"
      },
      "source": [
        "You can access the elements of the tuple the same way as a list, using the index and slicing:"
      ]
    },
    {
      "cell_type": "code",
      "execution_count": 53,
      "metadata": {
        "id": "ML_KTJR5h3PI",
        "colab": {
          "base_uri": "https://localhost:8080/"
        },
        "outputId": "e646e476-5b28-42b8-90f5-5b27df3a4fc7"
      },
      "outputs": [
        {
          "output_type": "stream",
          "name": "stdout",
          "text": [
            "Mary\n",
            "('Ali', 'Ying')\n",
            "Ying\n"
          ]
        }
      ],
      "source": [
        "# get the first element\n",
        "print(names_tuple[0])\n",
        "\n",
        "# get a slice\n",
        "print(names_tuple[1:3])\n",
        "\n",
        "# get the last element\n",
        "print(names_tuple[-1])\n"
      ]
    },
    {
      "cell_type": "markdown",
      "metadata": {
        "id": "BCScdQoEh3PI"
      },
      "source": [
        "However, if you try to add or remove elements, you will get errors:\n"
      ]
    },
    {
      "cell_type": "code",
      "execution_count": 54,
      "metadata": {
        "colab": {
          "base_uri": "https://localhost:8080/",
          "height": 175
        },
        "id": "7xcc1dzgh3PI",
        "outputId": "a109fb6e-5e04-44ef-8693-44f74d660507"
      },
      "outputs": [
        {
          "output_type": "error",
          "ename": "AttributeError",
          "evalue": "ignored",
          "traceback": [
            "\u001b[0;31m---------------------------------------------------------------------------\u001b[0m",
            "\u001b[0;31mAttributeError\u001b[0m                            Traceback (most recent call last)",
            "\u001b[0;32m<ipython-input-54-fdaeda93a286>\u001b[0m in \u001b[0;36m<cell line: 1>\u001b[0;34m()\u001b[0m\n\u001b[0;32m----> 1\u001b[0;31m \u001b[0mnames_tuple\u001b[0m\u001b[0;34m.\u001b[0m\u001b[0mappend\u001b[0m\u001b[0;34m(\u001b[0m\u001b[0;34m\"test\"\u001b[0m\u001b[0;34m)\u001b[0m\u001b[0;34m\u001b[0m\u001b[0;34m\u001b[0m\u001b[0m\n\u001b[0m",
            "\u001b[0;31mAttributeError\u001b[0m: 'tuple' object has no attribute 'append'"
          ]
        }
      ],
      "source": [
        "names_tuple.append(\"test\")"
      ]
    },
    {
      "cell_type": "markdown",
      "metadata": {
        "id": "G7kv8cbth3PJ"
      },
      "source": [
        "To view what operations you can use with the tuple object, type the variable name and a dot (.), then press the TAB key.\n"
      ]
    },
    {
      "cell_type": "code",
      "execution_count": 55,
      "metadata": {
        "id": "BJBN_zB9h3PJ",
        "colab": {
          "base_uri": "https://localhost:8080/",
          "height": 140
        },
        "outputId": "0bae3a38-4a9f-46a1-e288-7a08a47ec1e0"
      },
      "outputs": [
        {
          "output_type": "error",
          "ename": "SyntaxError",
          "evalue": "ignored",
          "traceback": [
            "\u001b[0;36m  File \u001b[0;32m\"<ipython-input-55-c8e15857dcfa>\"\u001b[0;36m, line \u001b[0;32m2\u001b[0m\n\u001b[0;31m    names_tuple.\u001b[0m\n\u001b[0m                ^\u001b[0m\n\u001b[0;31mSyntaxError\u001b[0m\u001b[0;31m:\u001b[0m invalid syntax\n"
          ]
        }
      ],
      "source": [
        "# position your cursor after the dot and press the TAB key\n",
        "names_tuple.\n",
        "\n",
        "# try it with the list, names\n",
        "names."
      ]
    },
    {
      "cell_type": "markdown",
      "metadata": {
        "id": "QQQd_x87h3PJ"
      },
      "source": [
        "You can see that for the tuple object, there are only two functions, `count()` and `index()`, and the operations for adding and removing elements from lists are not available for the tuple.\n",
        "\n",
        "So why would we create tuples?\n",
        "\n",
        "If we wanted a list of elements that would not be changed, a tuple is useful. This could be used to define categories in our data, for example, we could create a tuple to record the days of the week:\n",
        "\n"
      ]
    },
    {
      "cell_type": "code",
      "execution_count": 56,
      "metadata": {
        "id": "W0QW4KTth3PK",
        "colab": {
          "base_uri": "https://localhost:8080/"
        },
        "outputId": "d8b3aaa4-6266-474d-f0ee-cb6b713dbf7c"
      },
      "outputs": [
        {
          "output_type": "stream",
          "name": "stdout",
          "text": [
            "Sunday\n",
            "Monday\n",
            "Tuesday\n",
            "Wednesday\n",
            "Thursday\n",
            "Friday\n",
            "Saturday\n"
          ]
        }
      ],
      "source": [
        "days = ('Sunday', 'Monday', 'Tuesday', 'Wednesday', 'Thursday', 'Friday', 'Saturday')\n",
        "\n",
        "for d in days:\n",
        "    print(d)"
      ]
    },
    {
      "cell_type": "markdown",
      "metadata": {
        "id": "X_AwSHl4h3PK"
      },
      "source": [
        "## Sets\n",
        "\n",
        "The third type of collection we will consider in this lesson is a set.\n",
        "\n",
        "Properties of sets are:\n",
        "- order doesn't matter\n",
        "- and duplicates are not allowed\n",
        "- elements can be added and removed\n",
        "\n",
        "A set is created using curly braces, {}.\n",
        "\n",
        "Let's say we want to record the menuitems available in a restaurant.\n"
      ]
    },
    {
      "cell_type": "code",
      "execution_count": 65,
      "metadata": {
        "id": "Z6Cy7_mHh3PM",
        "colab": {
          "base_uri": "https://localhost:8080/"
        },
        "outputId": "a19bee28-802e-47fb-ea0a-f3e0a191a242"
      },
      "outputs": [
        {
          "output_type": "execute_result",
          "data": {
            "text/plain": [
              "set"
            ]
          },
          "metadata": {},
          "execution_count": 65
        }
      ],
      "source": [
        "# a set of menuitems, note the curly braces\n",
        "menuitems = {'noodles', 'bread', 'rice'}\n",
        "\n",
        "# check the type\n",
        "type(menuitems)\n"
      ]
    },
    {
      "cell_type": "markdown",
      "metadata": {
        "id": "UZaQtVhHh3PN"
      },
      "source": [
        "You can modify a set by adding and removing items:"
      ]
    },
    {
      "cell_type": "code",
      "execution_count": 66,
      "metadata": {
        "id": "7J7-YWbJh3PN",
        "colab": {
          "base_uri": "https://localhost:8080/"
        },
        "outputId": "0b8123f2-fbad-4e98-ba95-b5f5bf7331da"
      },
      "outputs": [
        {
          "output_type": "stream",
          "name": "stdout",
          "text": [
            "After adding banana\n",
            "{'noodles', 'rice', 'banana', 'bread'}\n",
            "\n",
            "After removing rice\n",
            "{'noodles', 'banana', 'bread'}\n",
            "\n",
            "After adding another banana\n",
            "{'noodles', 'banana', 'bread'}\n"
          ]
        }
      ],
      "source": [
        "# add an item to the set\n",
        "menuitems.add('banana')\n",
        "print('After adding banana')\n",
        "print(menuitems)\n",
        "\n",
        "# remove an item from the set, if it exists\n",
        "menuitems.remove('rice')\n",
        "print('\\nAfter removing rice')\n",
        "print(menuitems)\n",
        "\n",
        "# add another banana\n",
        "menuitems.add('banana')\n",
        "print('\\nAfter adding another banana')\n",
        "print(menuitems)\n"
      ]
    },
    {
      "cell_type": "markdown",
      "metadata": {
        "id": "hqXTK4kbh3PN"
      },
      "source": [
        "You can see that adding a duplicate item does not change the set.\n",
        "\n",
        "You can also perform set operations, such as intersect and union.\n",
        "\n"
      ]
    },
    {
      "cell_type": "code",
      "execution_count": 67,
      "metadata": {
        "id": "hXrKMZvPh3PN",
        "colab": {
          "base_uri": "https://localhost:8080/"
        },
        "outputId": "fb7d21ea-91a3-4894-c5e9-ef6e42f2f548"
      },
      "outputs": [
        {
          "output_type": "stream",
          "name": "stdout",
          "text": [
            "fruit set contains:\n",
            "banana\n",
            "orange\n",
            "apple\n",
            "\n",
            "Result of intersection with menuitems\n",
            "{'banana'}\n",
            "\n",
            "Result of union with menuitems\n",
            "{'noodles', 'apple', 'orange', 'banana', 'bread'}\n"
          ]
        }
      ],
      "source": [
        "# create another set\n",
        "fruit = {'banana', 'orange', 'apple'}\n",
        "\n",
        "# list all the items using a for loop\n",
        "print(\"fruit set contains:\")\n",
        "for f in fruit:\n",
        "    print(f)\n",
        "\n",
        "# find the intersection\n",
        "print(\"\\nResult of intersection with menuitems\")\n",
        "print(menuitems.intersection(fruit))\n",
        "\n",
        "# find the union\n",
        "print(\"\\nResult of union with menuitems\")\n",
        "print(menuitems.union(fruit))"
      ]
    },
    {
      "cell_type": "markdown",
      "metadata": {
        "id": "JWdbpWERh3PN"
      },
      "source": [
        "## Wrap-up\n",
        "\n",
        "In this notebook we have covered three types of collections\n",
        "1. lists, which are created using square brackets\n",
        "    * the elements are ordered by index\n",
        "    * the list is mutable: elements can be replaced, added or removed\n",
        "    * elements with duplicate values are allowed\n",
        "2. tuples, which are created using parentheses\n",
        "    * the elements are ordered by index\n",
        "    * the tuple is immutable, which means it cannot be changed once created\n",
        "    * elements with duplicate values are allowed\n",
        "3. sets, which are created using curly braces\n",
        "    * the elements are not ordered\n",
        "    * duplicate elements are not allowed\n",
        "    * elements can be added or removed\n",
        "\n"
      ]
    },
    {
      "cell_type": "markdown",
      "metadata": {
        "id": "XEzmMZ3Zh3PO"
      },
      "source": [
        "## Exercises"
      ]
    },
    {
      "cell_type": "markdown",
      "metadata": {
        "id": "AsKf0EiZh3PO"
      },
      "source": [
        "Create the list in the cell below:\n"
      ]
    },
    {
      "cell_type": "code",
      "execution_count": 69,
      "metadata": {
        "colab": {
          "base_uri": "https://localhost:8080/"
        },
        "id": "5fzNbAwsh3PO",
        "outputId": "bd82f268-a273-4bad-f638-cfcb6d5c6ade"
      },
      "outputs": [
        {
          "output_type": "stream",
          "name": "stdout",
          "text": [
            "['Java', 'Python', 'C++', 'Kotlin']\n"
          ]
        }
      ],
      "source": [
        "languages = [\"Java\", \"Python\", \"C++\", \"Kotlin\"]\n",
        "print(languages)"
      ]
    },
    {
      "cell_type": "markdown",
      "metadata": {
        "id": "YNoB7Rueh3PP"
      },
      "source": [
        "Q1. Print the second element in the list using its index."
      ]
    },
    {
      "cell_type": "code",
      "execution_count": 70,
      "metadata": {
        "colab": {
          "base_uri": "https://localhost:8080/"
        },
        "id": "bvF73aW-h3PQ",
        "outputId": "d51471c8-2d93-44ce-d4ac-18ffed52d26e"
      },
      "outputs": [
        {
          "output_type": "stream",
          "name": "stdout",
          "text": [
            "Ini adalah ilement / urutan ke2 dari list Python\n"
          ]
        }
      ],
      "source": [
        "# Q1 answer\n",
        "print( 'Ini adalah ilement / urutan ke2 dari list '+ languages[1])"
      ]
    },
    {
      "cell_type": "markdown",
      "metadata": {
        "id": "AbgVBzyOh3PQ"
      },
      "source": [
        "Q2. Print the last element in the list."
      ]
    },
    {
      "cell_type": "code",
      "execution_count": 71,
      "metadata": {
        "colab": {
          "base_uri": "https://localhost:8080/"
        },
        "id": "sBsNSNggh3PQ",
        "outputId": "b72c507b-e13a-42a9-f9b0-f58ad50dabd6"
      },
      "outputs": [
        {
          "output_type": "stream",
          "name": "stdout",
          "text": [
            "Ini adalah element / urutan terakhir dari list Kotlin\n"
          ]
        }
      ],
      "source": [
        "# Q2 answer\n",
        "print( 'Ini adalah element / urutan terakhir dari list '+ languages[-1])"
      ]
    },
    {
      "cell_type": "markdown",
      "metadata": {
        "id": "55SzXYNAh3PQ"
      },
      "source": [
        "Q3. Using slicing, print the elements \"Java\" and \"C++\""
      ]
    },
    {
      "cell_type": "code",
      "execution_count": 72,
      "metadata": {
        "colab": {
          "base_uri": "https://localhost:8080/"
        },
        "id": "0VrK9zDXh3PR",
        "outputId": "5ed89911-92be-4830-db39-d699d286fae9"
      },
      "outputs": [
        {
          "output_type": "stream",
          "name": "stdout",
          "text": [
            "Ini adalah element java sampe c++ ['Java', 'Python', 'C++']\n"
          ]
        }
      ],
      "source": [
        "# Q3 answer\n",
        "print( 'Ini adalah element java sampe c++', languages[:3])"
      ]
    },
    {
      "cell_type": "markdown",
      "metadata": {
        "id": "zas1vLcvh3PR"
      },
      "source": [
        "Q4. Add the language \"R\" in the list so that it appears *before* \"Python\""
      ]
    },
    {
      "cell_type": "code",
      "execution_count": 73,
      "metadata": {
        "colab": {
          "base_uri": "https://localhost:8080/"
        },
        "id": "jhsSntMah3PR",
        "outputId": "92372fbb-9ca4-4b84-ee55-6d1628cec48f"
      },
      "outputs": [
        {
          "output_type": "stream",
          "name": "stdout",
          "text": [
            "['Java', 'Python', 'R', 'C++', 'Kotlin']\n"
          ]
        }
      ],
      "source": [
        "# Q4 answer\n",
        "languages.insert(2, \"R\")\n",
        "print (languages)\n"
      ]
    },
    {
      "cell_type": "markdown",
      "metadata": {
        "id": "_8lpXrDLh3PR"
      },
      "source": [
        "Q5. Remove the last element in the list."
      ]
    },
    {
      "cell_type": "code",
      "execution_count": 74,
      "metadata": {
        "id": "yi9nEFgUh3PS",
        "colab": {
          "base_uri": "https://localhost:8080/"
        },
        "outputId": "e8bd3532-1229-445f-d8f1-b453cb072e5e"
      },
      "outputs": [
        {
          "output_type": "stream",
          "name": "stdout",
          "text": [
            "['Java', 'Python', 'R', 'C++']\n"
          ]
        }
      ],
      "source": [
        "# Q5 answer\n",
        "languages.pop()\n",
        "print(languages)"
      ]
    },
    {
      "cell_type": "markdown",
      "metadata": {
        "id": "4PgEx82xh3PS"
      },
      "source": [
        "Q6. Change the list to a tuple and run the cells for the rest of the commands that you have written. Which ones can execute without errors?\n"
      ]
    },
    {
      "cell_type": "code",
      "execution_count": 75,
      "metadata": {
        "id": "kC6uFgJXh3PS",
        "colab": {
          "base_uri": "https://localhost:8080/"
        },
        "outputId": "4649cd69-81c1-4ba2-a799-934e5ed6fdc7"
      },
      "outputs": [
        {
          "output_type": "stream",
          "name": "stdout",
          "text": [
            "('Java', 'Python', 'R', 'C++')\n",
            "Ini adalah element / urutan terakhir dari list C++\n",
            "Ini adalah element java sampe c++ ('Java', 'Python', 'R')\n",
            " add atau menambah  ('Java', 'Python', 'R', 'C++')\n",
            "menghapus ('Java', 'Python', 'R', 'C++')\n"
          ]
        }
      ],
      "source": [
        "# Q6 - change the list to a tuple\n",
        "ltupel = tuple(languages)\n",
        "print(ltupel)\n",
        "print( 'Ini adalah element / urutan terakhir dari list '+ ltupel[-1])\n",
        "print( 'Ini adalah element java sampe c++', ltupel[:3])\n",
        "languages.insert(2, \"R\")\n",
        "print (\" add atau menambah \", ltupel)\n",
        "languages.pop()\n",
        "print(\"menghapus\", ltupel)\n",
        "\n"
      ]
    },
    {
      "cell_type": "code",
      "source": [
        "# Answer tambahan 6\n",
        "# jadi untuk hapus dan menambah tidak dapat di ubah"
      ],
      "metadata": {
        "id": "er3cp5PuuajD"
      },
      "execution_count": null,
      "outputs": []
    },
    {
      "cell_type": "markdown",
      "metadata": {
        "id": "a5R-7Fv7h3PS"
      },
      "source": [
        "Q7. Change the list of a set and run the commands for the rest of the commands that you have written. Which ones can execute without errors?"
      ]
    },
    {
      "cell_type": "code",
      "execution_count": 78,
      "metadata": {
        "id": "ZxWjVCUih3PS",
        "colab": {
          "base_uri": "https://localhost:8080/",
          "height": 262
        },
        "outputId": "48c50abb-9084-4a1c-b378-6ff2f6aefd25"
      },
      "outputs": [
        {
          "output_type": "stream",
          "name": "stdout",
          "text": [
            "{'Python', 'R', 'Java'}\n"
          ]
        },
        {
          "output_type": "error",
          "ename": "TypeError",
          "evalue": "ignored",
          "traceback": [
            "\u001b[0;31m---------------------------------------------------------------------------\u001b[0m",
            "\u001b[0;31mTypeError\u001b[0m                                 Traceback (most recent call last)",
            "\u001b[0;32m<ipython-input-78-b7e8d50633fa>\u001b[0m in \u001b[0;36m<cell line: 4>\u001b[0;34m()\u001b[0m\n\u001b[1;32m      2\u001b[0m \u001b[0mlset\u001b[0m \u001b[0;34m=\u001b[0m \u001b[0mset\u001b[0m\u001b[0;34m(\u001b[0m\u001b[0mlanguages\u001b[0m\u001b[0;34m)\u001b[0m\u001b[0;34m\u001b[0m\u001b[0;34m\u001b[0m\u001b[0m\n\u001b[1;32m      3\u001b[0m \u001b[0mprint\u001b[0m\u001b[0;34m(\u001b[0m\u001b[0mlset\u001b[0m\u001b[0;34m)\u001b[0m\u001b[0;34m\u001b[0m\u001b[0;34m\u001b[0m\u001b[0m\n\u001b[0;32m----> 4\u001b[0;31m \u001b[0mprint\u001b[0m\u001b[0;34m(\u001b[0m \u001b[0;34m'Ini adalah element / urutan terakhir dari list '\u001b[0m\u001b[0;34m+\u001b[0m \u001b[0mlset\u001b[0m\u001b[0;34m[\u001b[0m\u001b[0;34m-\u001b[0m\u001b[0;36m1\u001b[0m\u001b[0;34m]\u001b[0m\u001b[0;34m)\u001b[0m\u001b[0;34m\u001b[0m\u001b[0;34m\u001b[0m\u001b[0m\n\u001b[0m\u001b[1;32m      5\u001b[0m \u001b[0mprint\u001b[0m\u001b[0;34m(\u001b[0m \u001b[0;34m'Ini adalah element java sampe c++'\u001b[0m\u001b[0;34m,\u001b[0m \u001b[0mlset\u001b[0m\u001b[0;34m[\u001b[0m\u001b[0;34m:\u001b[0m\u001b[0;36m3\u001b[0m\u001b[0;34m]\u001b[0m\u001b[0;34m)\u001b[0m\u001b[0;34m\u001b[0m\u001b[0;34m\u001b[0m\u001b[0m\n\u001b[1;32m      6\u001b[0m \u001b[0mlanguages\u001b[0m\u001b[0;34m.\u001b[0m\u001b[0minsert\u001b[0m\u001b[0;34m(\u001b[0m\u001b[0;36m2\u001b[0m\u001b[0;34m,\u001b[0m \u001b[0;34m\"R\"\u001b[0m\u001b[0;34m)\u001b[0m\u001b[0;34m\u001b[0m\u001b[0;34m\u001b[0m\u001b[0m\n",
            "\u001b[0;31mTypeError\u001b[0m: 'set' object is not subscriptable"
          ]
        }
      ],
      "source": [
        "# Q7 - change the list to a set\n",
        "lset = set(languages)\n",
        "print(lset)\n",
        "print( 'Ini adalah element / urutan terakhir dari list '+ lset[-1])\n",
        "print( 'Ini adalah element java sampe c++', lset[:3])\n",
        "languages.insert(2, \"R\")\n",
        "print (\" add atau menambah \", lset)\n",
        "languages.pop()\n",
        "print(\"menghapus\", lset)\n",
        "\n"
      ]
    },
    {
      "cell_type": "code",
      "source": [
        "# 7 answer, Semuanya salah"
      ],
      "metadata": {
        "id": "YGdCyAmwwz3g"
      },
      "execution_count": null,
      "outputs": []
    }
  ],
  "metadata": {
    "colab": {
      "provenance": []
    },
    "kernelspec": {
      "display_name": "Python 3 (ipykernel)",
      "language": "python",
      "name": "python3"
    },
    "language_info": {
      "codemirror_mode": {
        "name": "ipython",
        "version": 3
      },
      "file_extension": ".py",
      "mimetype": "text/x-python",
      "name": "python",
      "nbconvert_exporter": "python",
      "pygments_lexer": "ipython3",
      "version": "3.9.7"
    }
  },
  "nbformat": 4,
  "nbformat_minor": 0
}